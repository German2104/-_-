{
 "cells": [
  {
   "cell_type": "markdown",
   "id": "a8dfc622",
   "metadata": {},
   "source": [
    "# Решение тестового задания авито"
   ]
  },
  {
   "cell_type": "markdown",
   "id": "815de669",
   "metadata": {},
   "source": [
    "## Описание задачи\n",
    "На Авито пользователи часто вводят тексты в поиске, описаниях или заголовках с опечатками, пропущенными пробелами или слитным написанием слов (например: книгавхорошемсостоянии).Такие тексты усложняют понимание, снижают качество поиска и мешают автоматическому анализу (например, извлечению сущностей). Да, можно просто использовать дорогую LLM модель, но как будто такая задача может решаться гораздо более дешевым и быстрым способом. Мы ищем именно такое решение - точное, быстрое и легковесное.\n",
    "\n",
    "Ваша задача — разработать модель или алгоритм, который принимает на вход текст без пробелов и возвращает восстановленный текст с правильными пробелами и позициями, где они были пропущены. Обратите внимание, ваше решение ОБЯЗАНО запускаться без проблем проверяющим. Невозможность запуска и подтверждения результатов полученной метрики - обнуление достигнутой метрики.\n",
    "\n"
   ]
  },
  {
   "cell_type": "markdown",
   "id": "f4191c38",
   "metadata": {},
   "source": [
    "## Определение метрики\n",
    "\n",
    "Качество оценивается по F1-score для позиций пропущенных пробелов.\n",
    "\n",
    "Для каждой строки мы сравниваем множество позиций, где вы поставили пробелы, с истинным множеством.\n",
    "\n",
    "Формула:\n",
    "\n",
    "$F1 = 2 * (precision * recall) / (precision + recall)$\n",
    "\n",
    "                  \n",
    "Где:\n",
    "\n",
    "precision = |предсказанные ∩ истинные| / |предсказанные|\n",
    "\n",
    "recall = |предсказанные ∩ истинные| / |истинные|\n",
    "\n",
    "Окончательная метрика — средний F1 по всем текстам.\n",
    "\n",
    "На Stepik вы будете видеть F1 в процентах (от 0 до 100)."
   ]
  },
  {
   "cell_type": "markdown",
   "id": "a81224a5",
   "metadata": {},
   "source": [
    "[пример файла submission](https://ucarecdn.com/81985c03-e860-4ca2-b6b2-876e9356aa9b/)"
   ]
  },
  {
   "cell_type": "markdown",
   "id": "14e07be6",
   "metadata": {},
   "source": [
    "## Установка зависимостей"
   ]
  },
  {
   "cell_type": "code",
   "execution_count": 15,
   "id": "651d24cf",
   "metadata": {},
   "outputs": [
    {
     "name": "stdout",
     "output_type": "stream",
     "text": [
      "\n",
      "\u001b[1m[\u001b[0m\u001b[34;49mnotice\u001b[0m\u001b[1;39;49m]\u001b[0m\u001b[39;49m A new release of pip is available: \u001b[0m\u001b[31;49m24.3.1\u001b[0m\u001b[39;49m -> \u001b[0m\u001b[32;49m25.2\u001b[0m\n",
      "\u001b[1m[\u001b[0m\u001b[34;49mnotice\u001b[0m\u001b[1;39;49m]\u001b[0m\u001b[39;49m To update, run: \u001b[0m\u001b[32;49mpip install --upgrade pip\u001b[0m\n"
     ]
    }
   ],
   "source": [
    "!pip -q install -U pandas scikit-learn datasets\n",
    "from typing import List, Tuple\n",
    "from sklearn.feature_extraction import DictVectorizer\n",
    "from sklearn.linear_model import LogisticRegression\n",
    "from sklearn.pipeline import Pipeline"
   ]
  },
  {
   "cell_type": "markdown",
   "id": "07f88985",
   "metadata": {},
   "source": [
    "## считывание данных"
   ]
  },
  {
   "cell_type": "code",
   "execution_count": 17,
   "id": "7b374296",
   "metadata": {},
   "outputs": [
    {
     "name": "stdout",
     "output_type": "stream",
     "text": [
      "   id                 text_no_spaces\n",
      "0   0                куплюайфон14про\n",
      "1   1             ищудомвПодмосковье\n",
      "2   2  сдаюквартирусмебельюитехникой\n",
      "3   3     новыйдивандоставканедорого\n",
      "4   4                 отдамдаромкошк\n",
      "(1005, 2)\n"
     ]
    }
   ],
   "source": [
    "import pandas as pd\n",
    "\n",
    "path = \"dataset_1937770_3.txt\"\n",
    "\n",
    "df = pd.DataFrame(\n",
    "    [line.rstrip(\"\\n\").split(\",\", 1) \n",
    "     for line in open(path, encoding=\"utf-8\") \n",
    "     if line.strip() and not line.lower().startswith(\"id,\")],\n",
    "    columns=[\"id\", \"text_no_spaces\"]\n",
    ")\n",
    "df[\"id\"] = df[\"id\"].astype(int)\n",
    "\n",
    "print(df.head())\n",
    "print(df.shape)"
   ]
  },
  {
   "cell_type": "markdown",
   "id": "bd94485c",
   "metadata": {},
   "source": [
    "## Идея решения\n",
    "\n",
    "предобучить токенизатор по нашим правилам на большом корпусе текстов, чтобы он лучше понимал контекст и структуру языка."
   ]
  },
  {
   "cell_type": "code",
   "execution_count": null,
   "id": "fe77792a",
   "metadata": {},
   "outputs": [],
   "source": [
    "train_lines = [\n",
    "    # Бытовая техника\n",
    "    \"куплю айфон 14 про\",\n",
    "    \"куплю айфон 15 про макс\",\n",
    "    \"куплю samsung galaxy s23 ultra\",\n",
    "    \"новая микроволновка Samsung\",\n",
    "    \"куплю холодильник LG\",\n",
    "    \"срочно куплю стиральную машину Bosch\",\n",
    "    \"продам телевизор Sony 42 дюйма\",\n",
    "    \"куплю ноутбук HP\",\n",
    "    \"новый ноутбук Asus доставка сегодня\",\n",
    "    \"срочно продам ноутбук Lenovo\",\n",
    "    \"куплю пылесос Dyson\",\n",
    "    \"куплю робот пылесос Xiaomi\",\n",
    "    \"куплю монитор Philips 27 дюймов\",\n",
    "    \"продам видеокарту RTX 3060 ti\",\n",
    "    \"куплю процессор Intel i7\",\n",
    "    \"куплю оперативную память 16 ГБ DDR4\",\n",
    "    \"куплю телефон Huawei недорого\",\n",
    "    \"новый смартфон Realme 11 pro\",\n",
    "    \"куплю планшет iPad бу\",\n",
    "    \"срочно продам наушники JBL\",\n",
    "    \"куплю колонки Edifier 5.1\",\n",
    "    \"куплю фотоаппарат Canon EOS\",\n",
    "    \"куплю принтер HP LaserJet\",\n",
    "\n",
    "    # Недвижимость\n",
    "    \"ищу дом в Подмосковье\",\n",
    "    \"сдаю квартиру с мебелью и техникой\",\n",
    "    \"сдам комнату студентке\",\n",
    "    \"ищу квартиру у метро\",\n",
    "    \"сдам студию без посредников\",\n",
    "    \"сдаю офис в аренду\",\n",
    "    \"сдам парковку в центре города\",\n",
    "    \"сдам гараж на длительный срок\",\n",
    "    \"ищу квартиру посуточно Москва\",\n",
    "    \"сдаю дом с баней\",\n",
    "    \"сдам квартиру молодоженам\",\n",
    "    \"сдам студию в центре города\",\n",
    "    \"срочно ищу комнату для девушки\",\n",
    "    \"ищу квартиру в москве недорого\",\n",
    "\n",
    "    # Услуги\n",
    "    \"ищу грузчиков для переезда\",\n",
    "    \"нужен мастер по ремонту стиралок\",\n",
    "    \"ремонт квартир под ключ\",\n",
    "    \"ищу репетитора по биологии\",\n",
    "    \"ищу репетитора по математике\",\n",
    "    \"ищу репетитора по английскому языку\",\n",
    "    \"ищу программиста python\",\n",
    "    \"ищу работу курьером\",\n",
    "    \"срочно ищу работу поваром\",\n",
    "    \"нужен электрик срочно\",\n",
    "    \"нужен сантехник для ремонта\",\n",
    "    \"ищу дизайнера интерьера\",\n",
    "    \"ищу фотографа на мероприятие\",\n",
    "    \"ищу няню для ребенка\",\n",
    "    \"ищу уборщицу на выходные\",\n",
    "    \"ищу парикмахера на дом\",\n",
    "    \"ищу адвоката консультация\",\n",
    "\n",
    "    # Мебель / одежда\n",
    "    \"новый диван доставка недорого\",\n",
    "    \"куплю шкаф купе бу\",\n",
    "    \"продам кресло офисное\",\n",
    "    \"сдам комод белый\",\n",
    "    \"куплю кровать двухспальную\",\n",
    "    \"новый стол и стулья\",\n",
    "    \"куплю детскую кроватку бу\",\n",
    "    \"куплю ковер шерстяной\",\n",
    "    \"новая куртка зимняя доставка\",\n",
    "    \"продам кожаную куртку бу\",\n",
    "    \"куплю кроссовки Adidas оригинал\",\n",
    "    \"куплю платье вечернее\",\n",
    "    \"куплю джинсы Levi’s\",\n",
    "\n",
    "    # Транспорт\n",
    "    \"куплю велосипед Merida\",\n",
    "    \"срочно продам велосипед Stels\",\n",
    "    \"куплю машину ВАЗ бу на ходу\",\n",
    "    \"куплю зимние шины\",\n",
    "    \"куплю самокат детский\",\n",
    "    \"ищу такси до аэропорта\",\n",
    "    \"куплю лодку резиновую\",\n",
    "    \"куплю скейтборд новый\",\n",
    "    \"куплю мотоцикл бу\",\n",
    "    \"куплю запчасти на ВАЗ 2107\",\n",
    "\n",
    "    # Разное\n",
    "    \"отдам даром кошку\",\n",
    "    \"отдам даром старый шкаф\",\n",
    "    \"суши доставка ночью\",\n",
    "    \"ремонт iPhone быстро\",\n",
    "    \"Москва Сбербанк банкомат рядом\",\n",
    "    \"холодильник сломался помогите срочно\",\n",
    "    \"хочу заказать такси в аэропорт\",\n",
    "    \"хочу купить мороженое\",\n",
    "    \"хочу заказать суши\",\n",
    "]"
   ]
  },
  {
   "cell_type": "code",
   "execution_count": null,
   "id": "4f3df948",
   "metadata": {},
   "outputs": [],
   "source": []
  },
  {
   "cell_type": "markdown",
   "id": "75f84ef7",
   "metadata": {},
   "source": [
    "### Формирование целевых метрик для модели"
   ]
  },
  {
   "cell_type": "code",
   "execution_count": 19,
   "id": "0696d5ab",
   "metadata": {},
   "outputs": [],
   "source": [
    "def remove_spaces_and_targets(s: str) -> Tuple[str, List[int]]:\n",
    "    chars, y = [], []\n",
    "    for ch in s:\n",
    "        if ch == \" \":\n",
    "            if y: y[-1] = 1   # если был пробел → метка \"1\" у предыдущего символа\n",
    "        else:\n",
    "            chars.append(ch)\n",
    "            y.append(0)\n",
    "    if y: y[-1] = 0  # у последнего символа пробела нет\n",
    "    return \"\".join(chars), y"
   ]
  },
  {
   "cell_type": "markdown",
   "id": "e658037b",
   "metadata": {},
   "source": [
    "### Вспомогательные переменные и функции"
   ]
  },
  {
   "cell_type": "code",
   "execution_count": 20,
   "id": "55115740",
   "metadata": {},
   "outputs": [],
   "source": [
    "RUS_VOWELS  = set(\"аеёиоуыэюяАЕЁИОУЫЭЮЯ\")\n",
    "RUS_LETTERS = set(\"абвгдеёжзийклмнопрстуфхцчшщъыьэюяАБВГДЕЁЖЗИЙКЛМНОПРСТУФХЦЧШЩЪЫЬЭЮЯ\")\n",
    "LAT_LETTERS = set(\"abcdefghijklmnopqrstuvwxyzABCDEFGHIJKLMNOPQRSTUVWXYZ\")\n",
    "DIGITS      = set(\"0123456789\")"
   ]
  },
  {
   "cell_type": "code",
   "execution_count": 21,
   "id": "ba3907df",
   "metadata": {},
   "outputs": [],
   "source": [
    "# Проверка типа символа\n",
    "def ctype(ch: str) -> str:\n",
    "    if ch in RUS_LETTERS: return \"RU\"\n",
    "    if ch in LAT_LETTERS: return \"EN\"\n",
    "    if ch in DIGITS:      return \"DG\"\n",
    "    return \"OT\""
   ]
  },
  {
   "cell_type": "code",
   "execution_count": 22,
   "id": "feb53dec",
   "metadata": {},
   "outputs": [],
   "source": [
    "# Проверка гласной буквы\n",
    "def is_vowel(ch: str) -> int:\n",
    "    return int(ch in RUS_VOWELS)"
   ]
  },
  {
   "cell_type": "markdown",
   "id": "edab54b2",
   "metadata": {},
   "source": [
    "### !!!Главная идея: каждую границу мы описываем признаками «что слева и справа», «какой контекст рядом», «какие переходы по типам букв». Это даёт модели материал для предсказания пробела."
   ]
  },
  {
   "cell_type": "markdown",
   "id": "dcde1e7b",
   "metadata": {},
   "source": [
    "#### Пример признаков для границы между i и i+1 символами строки s:\n",
    "```json\n",
    "{\n",
    " 'bigram': 'н|1',\n",
    " 'lt': 'RU', 'rt': 'DG',\n",
    " 'type_change': 1,\n",
    " 'case_change': 0,\n",
    " 'digit_to_alpha': 0,\n",
    " 'alpha_to_digit': 1,\n",
    " 'vowel_to_cons': 0,\n",
    " 'cons_to_vowel': 0,\n",
    " 'c-2': 'о', 'c-2_t': 'RU', 'c-2_u': 0, 'c-2_v': 1,\n",
    " 'c-1': 'н', 'c-1_t': 'RU', 'c-1_u': 0, 'c-1_v': 0,\n",
    " 'c0': 'н', 'c0_t': 'RU', 'c0_u': 0, 'c0_v': 0,\n",
    " 'c1': '1', 'c1_t': 'DG', 'c1_u': 0, 'c1_v': 0,\n",
    " 'c2': '4', 'c2_t': 'DG', 'c2_u': 0, 'c2_v': 0\n",
    "}\n",
    "```"
   ]
  },
  {
   "cell_type": "code",
   "execution_count": 23,
   "id": "0d43d30d",
   "metadata": {},
   "outputs": [],
   "source": [
    "# Признаки для границы между символами s[i] и s[i+1]\n",
    "def feats_for_boundary(s: str, i: int, win: int = 2) -> dict:\n",
    "    n = len(s)\n",
    "    left, right = s[i], s[i+1]\n",
    "    f = {\n",
    "    # --- базовые ---\n",
    "    \"bigram\": left + \"|\" + right,\n",
    "    \"lt\": ctype(left),\n",
    "    \"rt\": ctype(right),\n",
    "    \"type_change\": int(ctype(left) != ctype(right)),\n",
    "    \"case_change\": int(left.isupper() != right.isupper()),\n",
    "    \"digit_to_alpha\": int(left in DIGITS and right not in DIGITS),\n",
    "    \"alpha_to_digit\": int(left not in DIGITS and right in DIGITS),\n",
    "    \"vowel_to_cons\": int(is_vowel(left) and (right in RUS_LETTERS and not is_vowel(right))),\n",
    "    \"cons_to_vowel\": int((left in RUS_LETTERS and not is_vowel(left)) and is_vowel(right)),\n",
    "\n",
    "    # --- расширенные ---\n",
    "    # 1. Триграмма (левый-центр-правый)\n",
    "    \"trigram_l\": (s[i-1] if i > 0 else \"<BOS>\") + left + \"|\" + right,\n",
    "\n",
    "    # 2. Триграмма справа\n",
    "    \"trigram_r\": left + \"|\" + right + (s[i+2] if i+2 < n else \"<EOS>\"),\n",
    "\n",
    "    # 3. Сочетания категорий (тип+тип)\n",
    "    \"lt_rt_types\": ctype(left) + \"_\" + ctype(right),\n",
    "\n",
    "    # 4. Является ли граница внутри латиницы\n",
    "    \"both_en\": int(left in LAT_LETTERS and right in LAT_LETTERS),\n",
    "\n",
    "    # 5. Является ли граница внутри кириллицы\n",
    "    \"both_ru\": int(left in RUS_LETTERS and right in RUS_LETTERS),\n",
    "\n",
    "    # 6. Сочетание гласность-согласность (гласная/согласная)\n",
    "    \"vc_pattern\": str(is_vowel(left)) + str(is_vowel(right)),\n",
    "\n",
    "    # 7. Пунктуация\n",
    "    \"left_punct\": int(not left.isalnum()),\n",
    "    \"right_punct\": int(not right.isalnum()),\n",
    "\n",
    "    # 8. Числовой паттерн (две цифры подряд)\n",
    "    \"digit_seq\": int(left in DIGITS and right in DIGITS),\n",
    "\n",
    "    # 9. CamelCase (с маленькой на большую)\n",
    "    \"camel_case\": int(left.islower() and right.isupper()),\n",
    "\n",
    "    # 10. Аббревиатуры (две заглавные подряд)\n",
    "    \"abbr\": int(left.isupper() and right.isupper()),\n",
    "\n",
    "    # 11. Длина \"слова до границы\"\n",
    "    # (подсчёт назад до пробела или начала)\n",
    "    \"len_left_word\": sum(\n",
    "        1 for j in range(i, -1, -1)\n",
    "        if s[j].isalpha()\n",
    "    ),\n",
    "\n",
    "    # 12. Длина \"слова после границы\"\n",
    "    \"len_right_word\": sum(\n",
    "        1 for j in range(i+1, n)\n",
    "        if s[j].isalpha()\n",
    "    ) if right.isalpha() else 0,\n",
    "}\n",
    "    for off in range(-win, win+1):\n",
    "        j = i+off\n",
    "        key = f\"c{off}\"\n",
    "        if 0 <= j < n:\n",
    "            ch = s[j]\n",
    "            f[key]    = ch\n",
    "            f[key+\"_t\"]= ctype(ch)\n",
    "            f[key+\"_u\"]= int(ch.isupper())\n",
    "            f[key+\"_v\"]= is_vowel(ch)\n",
    "        else:\n",
    "            f[key]    = \"<PAD>\"\n",
    "            f[key+\"_t\"]= \"PAD\"\n",
    "            f[key+\"_u\"]= 0\n",
    "            f[key+\"_v\"]= 0\n",
    "    return f"
   ]
  },
  {
   "cell_type": "code",
   "execution_count": 24,
   "id": "77e7c95f",
   "metadata": {},
   "outputs": [],
   "source": [
    "def make_train(lines: List[str], max_len=2000):\n",
    "    X, y = [], []\n",
    "    for s in lines:\n",
    "        ns, tgt = remove_spaces_and_targets(s) # ns - строка без пробелов, tgt - метки\n",
    "        for i in range(len(ns)-1):\n",
    "            X.append(feats_for_boundary(ns, i))\n",
    "            y.append(tgt[i])\n",
    "    return X, y # X - признаки, y - метки"
   ]
  },
  {
   "cell_type": "code",
   "execution_count": 25,
   "id": "4ff1ad12",
   "metadata": {},
   "outputs": [],
   "source": [
    "def build_model() -> Pipeline:\n",
    "    clf = LogisticRegression(\n",
    "        solver=\"liblinear\", penalty=\"l2\", C=1.0,\n",
    "        max_iter=200, class_weight=\"balanced\", random_state=42\n",
    "    )\n",
    "    return Pipeline([(\"vec\", DictVectorizer()), (\"lr\", clf)]) # модель с преобразованием признаков"
   ]
  },
  {
   "cell_type": "code",
   "execution_count": 26,
   "id": "69dc0b2c",
   "metadata": {},
   "outputs": [],
   "source": [
    "def restore_spaces(model: Pipeline, s: str, thr: float = 0.5) -> str:\n",
    "    if not s or len(s) == 1: return s\n",
    "    feats = [feats_for_boundary(s, i) for i in range(len(s)-1)]\n",
    "    probs = model.predict_proba(feats)[:, 1]\n",
    "    out = [s[0]]\n",
    "    for i, p in enumerate(probs):\n",
    "        if p >= thr: out.append(\" \")\n",
    "        out.append(s[i+1])\n",
    "    return \"\".join(out)"
   ]
  },
  {
   "cell_type": "code",
   "execution_count": 27,
   "id": "1779e0a2",
   "metadata": {},
   "outputs": [
    {
     "name": "stdout",
     "output_type": "stream",
     "text": [
      "Обучено на примерах: 623\n"
     ]
    }
   ],
   "source": [
    "# Обучаем модель на мини-корпусе\n",
    "X_train, y_train = make_train(train_lines)\n",
    "model = build_model().fit(X_train, y_train)\n",
    "\n",
    "print(f\"Обучено на примерах: {len(y_train)}\")"
   ]
  },
  {
   "cell_type": "code",
   "execution_count": 31,
   "id": "98b1136e",
   "metadata": {},
   "outputs": [
    {
     "name": "stdout",
     "output_type": "stream",
     "text": [
      "   id                 text_no_spaces  predicted_positions\n",
      "0   0                куплюайфон14про          [5, 10, 12]\n",
      "1   1             ищудомвПодмосковье            [3, 6, 7]\n",
      "2   2  сдаюквартирусмебельюитехникой  [4, 12, 13, 20, 21]\n",
      "3   3     новыйдивандоставканедорого      [5, 10, 18, 20]\n",
      "4   4                 отдамдаромкошк              [5, 10]\n",
      "5   5          работавМосквеудаленно       [6, 7, 13, 14]\n",
      "6   6          куплютелевизорPhilips              [5, 14]\n",
      "7   7        ищугрузчиковдляпереезда          [3, 12, 15]\n",
      "8   8           ремонтквартирподключ          [6, 13, 16]\n",
      "9   9                 куплюноутбукHP              [5, 12]\n",
      "Файл submission.csv готов 🚀\n"
     ]
    }
   ],
   "source": [
    "def strip_spaces(s: str) -> str:\n",
    "    return \"\".join(ch for ch in s if ch != \" \")\n",
    "\n",
    "def space_positions_from_spaced_text(spaced: str):\n",
    "    \"\"\"Возвращает список индексов пробелов в строке без пробелов\"\"\"\n",
    "    pos = []\n",
    "    seen = 0\n",
    "    for ch in spaced:\n",
    "        if ch == \" \":\n",
    "            pos.append(seen)\n",
    "        else:\n",
    "            seen += 1\n",
    "    return pos\n",
    "\n",
    "preds = []\n",
    "positions = []\n",
    "\n",
    "for s in df[\"text_no_spaces\"].astype(str):\n",
    "    s0 = strip_spaces(s)  # убираем пробелы, если они есть\n",
    "    spaced = restore_spaces(model, s0, thr=0.5)  # предсказанный текст с пробелами\n",
    "    preds.append(spaced)\n",
    "    positions.append(str(space_positions_from_spaced_text(spaced)))  # строка вида \"[5, 8, 13]\"\n",
    "\n",
    "# формируем submission\n",
    "res = df.copy()\n",
    "res[\"predicted_positions\"] = positions\n",
    "\n",
    "# сохраняем\n",
    "res.to_csv(\"submission.csv\", index=False, encoding=\"utf-8\")\n",
    "\n",
    "print(res.head(10))\n",
    "print(\"Файл submission.csv готов 🚀\")"
   ]
  },
  {
   "cell_type": "code",
   "execution_count": null,
   "id": "632514b7",
   "metadata": {},
   "outputs": [],
   "source": []
  }
 ],
 "metadata": {
  "kernelspec": {
   "display_name": ".venv",
   "language": "python",
   "name": "python3"
  },
  "language_info": {
   "codemirror_mode": {
    "name": "ipython",
    "version": 3
   },
   "file_extension": ".py",
   "mimetype": "text/x-python",
   "name": "python",
   "nbconvert_exporter": "python",
   "pygments_lexer": "ipython3",
   "version": "3.12.6"
  }
 },
 "nbformat": 4,
 "nbformat_minor": 5
}
